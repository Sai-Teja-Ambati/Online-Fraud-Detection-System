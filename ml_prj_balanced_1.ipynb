{
  "nbformat": 4,
  "nbformat_minor": 0,
  "metadata": {
    "colab": {
      "provenance": []
    },
    "kernelspec": {
      "name": "python3",
      "display_name": "Python 3"
    },
    "language_info": {
      "name": "python"
    }
  },
  "cells": [
    {
      "cell_type": "markdown",
      "source": [
        "#IMPORTING THE LIBRARIES\n"
      ],
      "metadata": {
        "id": "m5_smsTmL6uK"
      }
    },
    {
      "cell_type": "code",
      "execution_count": 5,
      "metadata": {
        "id": "m0g1keb2F3Zi"
      },
      "outputs": [],
      "source": [
        "import numpy as np\n",
        "import pandas as pd\n",
        "import matplotlib.pyplot as plt\n",
        "df=pd.read_csv('/content/PS_20174392719_1491204439457_log.csv')"
      ]
    },
    {
      "cell_type": "code",
      "source": [
        "print(\"Shape of the DataFrame:\", df.shape)"
      ],
      "metadata": {
        "colab": {
          "base_uri": "https://localhost:8080/"
        },
        "id": "qc0XU6MJLGKn",
        "outputId": "917cf1c5-4660-4af0-df77-f9abb88fba92"
      },
      "execution_count": 6,
      "outputs": [
        {
          "output_type": "stream",
          "name": "stdout",
          "text": [
            "Shape of the DataFrame: (3952536, 11)\n"
          ]
        }
      ]
    },
    {
      "cell_type": "code",
      "source": [
        "# Assuming your DataFrame is named 'df'\n",
        "\n",
        "# For isFraud = 1\n",
        "df1 = df[df['isFraud'] == 1]\n",
        "\n",
        "# For isFraud = 0\n",
        "df2 = df[df['isFraud'] == 0]\n",
        "\n",
        "\n",
        "print(df1.shape)\n",
        "\n",
        "print(df2.shape)\n"
      ],
      "metadata": {
        "colab": {
          "base_uri": "https://localhost:8080/"
        },
        "id": "gqwumhc1Xzd6",
        "outputId": "b2d09455-9034-4aa1-ee5a-09e3c9ff4812"
      },
      "execution_count": 8,
      "outputs": [
        {
          "output_type": "stream",
          "name": "stdout",
          "text": [
            "(3267, 11)\n",
            "(3949268, 11)\n"
          ]
        }
      ]
    },
    {
      "cell_type": "code",
      "source": [
        "df3 = pd.concat([df1, df2.head(4000)], axis=0)\n",
        "\n",
        "# If you want to reset index after concatenation\n",
        "df3.reset_index(drop=True, inplace=True)\n",
        "\n",
        "# Checking the combined DataFrame\n",
        "print(df3.head())\n",
        "df3.shape"
      ],
      "metadata": {
        "colab": {
          "base_uri": "https://localhost:8080/"
        },
        "id": "WTrQobzEp5xA",
        "outputId": "d5e54cec-9cd7-4248-b224-8f41aca9a9f4"
      },
      "execution_count": 12,
      "outputs": [
        {
          "output_type": "stream",
          "name": "stdout",
          "text": [
            "   step      type   amount     nameOrig  oldbalanceOrg  newbalanceOrig  \\\n",
            "0     1  TRANSFER    181.0  C1305486145          181.0             0.0   \n",
            "1     1  CASH_OUT    181.0   C840083671          181.0             0.0   \n",
            "2     1  TRANSFER   2806.0  C1420196421         2806.0             0.0   \n",
            "3     1  CASH_OUT   2806.0  C2101527076         2806.0             0.0   \n",
            "4     1  TRANSFER  20128.0   C137533655        20128.0             0.0   \n",
            "\n",
            "      nameDest  oldbalanceDest  newbalanceDest  isFraud  isFlaggedFraud  \n",
            "0   C553264065             0.0             0.0      1.0             0.0  \n",
            "1    C38997010         21182.0             0.0      1.0             0.0  \n",
            "2   C972765878             0.0             0.0      1.0             0.0  \n",
            "3  C1007251739         26202.0             0.0      1.0             0.0  \n",
            "4  C1848415041             0.0             0.0      1.0             0.0  \n"
          ]
        },
        {
          "output_type": "execute_result",
          "data": {
            "text/plain": [
              "(7267, 11)"
            ]
          },
          "metadata": {},
          "execution_count": 12
        }
      ]
    },
    {
      "cell_type": "code",
      "source": [
        "df.columns"
      ],
      "metadata": {
        "colab": {
          "base_uri": "https://localhost:8080/"
        },
        "id": "zfWjp70DUScQ",
        "outputId": "0053f130-b9c4-4375-c3e6-2480e5075fa2"
      },
      "execution_count": 13,
      "outputs": [
        {
          "output_type": "execute_result",
          "data": {
            "text/plain": [
              "Index(['step', 'type', 'amount', 'nameOrig', 'oldbalanceOrg', 'newbalanceOrig',\n",
              "       'nameDest', 'oldbalanceDest', 'newbalanceDest', 'isFraud',\n",
              "       'isFlaggedFraud'],\n",
              "      dtype='object')"
            ]
          },
          "metadata": {},
          "execution_count": 13
        }
      ]
    },
    {
      "cell_type": "code",
      "source": [
        "class_counts = df3['isFraud'].value_counts()\n",
        "\n",
        "print(class_counts)"
      ],
      "metadata": {
        "id": "0ZxO_ZweSGyq",
        "colab": {
          "base_uri": "https://localhost:8080/"
        },
        "outputId": "670704a7-6ff4-41bd-d2de-ac0f869cfd7a"
      },
      "execution_count": 15,
      "outputs": [
        {
          "output_type": "stream",
          "name": "stdout",
          "text": [
            "isFraud\n",
            "0.0    4000\n",
            "1.0    3267\n",
            "Name: count, dtype: int64\n"
          ]
        }
      ]
    },
    {
      "cell_type": "code",
      "source": [
        "class_counts = df3['isFlaggedFraud'].value_counts()\n",
        "\n",
        "print(class_counts)"
      ],
      "metadata": {
        "colab": {
          "base_uri": "https://localhost:8080/"
        },
        "id": "ASuZBXcPUMVn",
        "outputId": "31a1b984-725d-4139-85f9-26e9df72dbf7"
      },
      "execution_count": 16,
      "outputs": [
        {
          "output_type": "stream",
          "name": "stdout",
          "text": [
            "isFlaggedFraud\n",
            "0.0    7264\n",
            "1.0       3\n",
            "Name: count, dtype: int64\n"
          ]
        }
      ]
    },
    {
      "cell_type": "code",
      "source": [
        "df3.columns"
      ],
      "metadata": {
        "colab": {
          "base_uri": "https://localhost:8080/"
        },
        "id": "PGfzpLQmNEAM",
        "outputId": "f54112ff-ac67-402b-cc3a-a703a3241de5"
      },
      "execution_count": 17,
      "outputs": [
        {
          "output_type": "execute_result",
          "data": {
            "text/plain": [
              "Index(['step', 'type', 'amount', 'nameOrig', 'oldbalanceOrg', 'newbalanceOrig',\n",
              "       'nameDest', 'oldbalanceDest', 'newbalanceDest', 'isFraud',\n",
              "       'isFlaggedFraud'],\n",
              "      dtype='object')"
            ]
          },
          "metadata": {},
          "execution_count": 17
        }
      ]
    },
    {
      "cell_type": "code",
      "source": [
        "# Retain the 6 features and the target variable\n",
        "df3 = df3[['amount','oldbalanceOrg','newbalanceOrig','oldbalanceDest','newbalanceDest',\"isFraud\",\"isFlaggedFraud\"]]"
      ],
      "metadata": {
        "id": "XiOQopuROsGV"
      },
      "execution_count": 19,
      "outputs": []
    },
    {
      "cell_type": "code",
      "source": [
        "# Display the first few rows of the dataset\n",
        "print(df3.head())\n",
        "\n",
        "# Get the summary statistics of the dataset\n",
        "print(df3.describe(include=\"all\"))\n",
        "\n",
        "# Get information about the dataset (columns, data types, non-null counts)\n",
        "print(df3.info())"
      ],
      "metadata": {
        "colab": {
          "base_uri": "https://localhost:8080/"
        },
        "id": "t9xmN3WDL47j",
        "outputId": "30e8ee23-2de0-41cd-b182-b4d86f936791"
      },
      "execution_count": 20,
      "outputs": [
        {
          "output_type": "stream",
          "name": "stdout",
          "text": [
            "    amount  oldbalanceOrg  newbalanceOrig  oldbalanceDest  newbalanceDest  \\\n",
            "0    181.0          181.0             0.0             0.0             0.0   \n",
            "1    181.0          181.0             0.0         21182.0             0.0   \n",
            "2   2806.0         2806.0             0.0             0.0             0.0   \n",
            "3   2806.0         2806.0             0.0         26202.0             0.0   \n",
            "4  20128.0        20128.0             0.0             0.0             0.0   \n",
            "\n",
            "   isFraud  isFlaggedFraud  \n",
            "0      1.0             0.0  \n",
            "1      1.0             0.0  \n",
            "2      1.0             0.0  \n",
            "3      1.0             0.0  \n",
            "4      1.0             0.0  \n",
            "             amount  oldbalanceOrg  newbalanceOrig  oldbalanceDest  \\\n",
            "count  7.267000e+03   7.267000e+03    7.267000e+03    7.267000e+03   \n",
            "mean   6.552001e+05   1.183693e+06    5.981495e+05    6.616270e+05   \n",
            "std    1.600271e+06   2.461306e+06    1.875867e+06    2.117136e+06   \n",
            "min    0.000000e+00   0.000000e+00    0.000000e+00    0.000000e+00   \n",
            "25%    8.082015e+03   1.419828e+04    0.000000e+00    0.000000e+00   \n",
            "50%    9.678524e+04   1.207920e+05    0.000000e+00    0.000000e+00   \n",
            "75%    4.146223e+05   1.027206e+06    2.881912e+04    2.680349e+05   \n",
            "max    1.000000e+07   3.767004e+07    2.767004e+07    3.296166e+07   \n",
            "\n",
            "       newbalanceDest      isFraud  isFlaggedFraud  \n",
            "count    7.267000e+03  7267.000000     7267.000000  \n",
            "mean     1.057322e+06     0.449567        0.000413  \n",
            "std      2.711586e+06     0.497484        0.020315  \n",
            "min      0.000000e+00     0.000000        0.000000  \n",
            "25%      0.000000e+00     0.000000        0.000000  \n",
            "50%      0.000000e+00     0.000000        0.000000  \n",
            "75%      6.644754e+05     1.000000        0.000000  \n",
            "max      3.464570e+07     1.000000        1.000000  \n",
            "<class 'pandas.core.frame.DataFrame'>\n",
            "RangeIndex: 7267 entries, 0 to 7266\n",
            "Data columns (total 7 columns):\n",
            " #   Column          Non-Null Count  Dtype  \n",
            "---  ------          --------------  -----  \n",
            " 0   amount          7267 non-null   float64\n",
            " 1   oldbalanceOrg   7267 non-null   float64\n",
            " 2   newbalanceOrig  7267 non-null   float64\n",
            " 3   oldbalanceDest  7267 non-null   float64\n",
            " 4   newbalanceDest  7267 non-null   float64\n",
            " 5   isFraud         7267 non-null   float64\n",
            " 6   isFlaggedFraud  7267 non-null   float64\n",
            "dtypes: float64(7)\n",
            "memory usage: 397.5 KB\n",
            "None\n"
          ]
        }
      ]
    },
    {
      "cell_type": "code",
      "source": [
        "#checking for any missing values\n",
        "# Check for missing values in each column\n",
        "missing_values = df3.isnull().sum()\n",
        "print(missing_values)\n",
        "\n",
        "# Visualize missing values using a bar chart\n",
        "missing_values.plot(kind='bar')\n",
        "plt.xlabel('Columns')\n",
        "plt.ylabel('Number of Missing Values')\n",
        "plt.title('Missing Values in Dataset')\n",
        "plt.show()"
      ],
      "metadata": {
        "colab": {
          "base_uri": "https://localhost:8080/",
          "height": 712
        },
        "id": "DUQdtrtYNAj3",
        "outputId": "0253ca79-f330-4e02-8e7c-23d7583f5467"
      },
      "execution_count": 21,
      "outputs": [
        {
          "output_type": "stream",
          "name": "stdout",
          "text": [
            "amount            0\n",
            "oldbalanceOrg     0\n",
            "newbalanceOrig    0\n",
            "oldbalanceDest    0\n",
            "newbalanceDest    0\n",
            "isFraud           0\n",
            "isFlaggedFraud    0\n",
            "dtype: int64\n"
          ]
        },
        {
          "output_type": "display_data",
          "data": {
            "text/plain": [
              "<Figure size 640x480 with 1 Axes>"
            ],
            "image/png": "[encoded data removed]"
          },
          "metadata": {}
        }
      ]
    },
    {
      "cell_type": "code",
      "source": [
        "#removing tuples with missing values\n",
        "# Drop rows with missing values\n",
        "df_clean = df3.dropna()\n",
        "df_clean.shape"
      ],
      "metadata": {
        "colab": {
          "base_uri": "https://localhost:8080/"
        },
        "id": "vZoFaJyANy-I",
        "outputId": "1e33b166-29eb-4189-dcc4-fa172b7d9e0d"
      },
      "execution_count": 22,
      "outputs": [
        {
          "output_type": "execute_result",
          "data": {
            "text/plain": [
              "(7267, 7)"
            ]
          },
          "metadata": {},
          "execution_count": 22
        }
      ]
    },
    {
      "cell_type": "markdown",
      "source": [
        "#Using Logistic Regression without normalization and with normalization\n"
      ],
      "metadata": {
        "id": "VQ4HPePwS7h2"
      }
    },
    {
      "cell_type": "code",
      "source": [
        "from sklearn.model_selection import train_test_split\n",
        "from sklearn.linear_model import LogisticRegression\n",
        "from sklearn.metrics import classification_report\n",
        "\n",
        "# Assuming df is your DataFrame containing the dataset\n",
        "X = df_clean[['amount', 'oldbalanceOrg', 'newbalanceOrig', 'oldbalanceDest', 'newbalanceDest', 'isFlaggedFraud']]\n",
        "y = df_clean['isFraud']\n",
        "\n",
        "# Split the dataset into training and testing sets\n",
        "X_train, X_test, y_train, y_test = train_test_split(X, y, test_size=0.2, random_state=42)\n",
        "\n",
        "# Train the logistic regression model\n",
        "model = LogisticRegression()\n",
        "model.fit(X_train, y_train)\n",
        "\n",
        "# Print the results\n",
        "print(\"Results without normalization:\")\n",
        "print(\"Training set:\")\n",
        "print(classification_report(y_train, model.predict(X_train)))\n",
        "print(\"Testing set:\")\n",
        "print(classification_report(y_test, model.predict(X_test)))\n"
      ],
      "metadata": {
        "colab": {
          "base_uri": "https://localhost:8080/"
        },
        "id": "howZdeUFOQ39",
        "outputId": "a1db43a0-49ea-495d-8b60-1efe15e994aa"
      },
      "execution_count": 23,
      "outputs": [
        {
          "output_type": "stream",
          "name": "stdout",
          "text": [
            "Results without normalization:\n",
            "Training set:\n",
            "              precision    recall  f1-score   support\n",
            "\n",
            "         0.0       0.98      0.84      0.90      3211\n",
            "         1.0       0.83      0.98      0.90      2602\n",
            "\n",
            "    accuracy                           0.90      5813\n",
            "   macro avg       0.90      0.91      0.90      5813\n",
            "weighted avg       0.91      0.90      0.90      5813\n",
            "\n",
            "Testing set:\n",
            "              precision    recall  f1-score   support\n",
            "\n",
            "         0.0       0.97      0.81      0.88       789\n",
            "         1.0       0.81      0.97      0.88       665\n",
            "\n",
            "    accuracy                           0.88      1454\n",
            "   macro avg       0.89      0.89      0.88      1454\n",
            "weighted avg       0.90      0.88      0.88      1454\n",
            "\n"
          ]
        }
      ]
    },
    {
      "cell_type": "code",
      "source": [
        "from sklearn.model_selection import train_test_split\n",
        "from sklearn.linear_model import LogisticRegression\n",
        "from sklearn.preprocessing import StandardScaler\n",
        "from sklearn.metrics import classification_report, confusion_matrix\n",
        "\n",
        "# Assuming df is your DataFrame containing the dataset\n",
        "X = df_clean[['amount', 'oldbalanceOrg', 'newbalanceOrig', 'oldbalanceDest', 'newbalanceDest', 'isFlaggedFraud']]\n",
        "y = df_clean['isFraud']\n",
        "\n",
        "# Split the dataset into training and testing sets\n",
        "X_train, X_test, y_train, y_test = train_test_split(X, y, test_size=0.2, random_state=42)\n",
        "\n",
        "# Normalize the dataset\n",
        "scaler = StandardScaler()\n",
        "X_train_normalized = scaler.fit_transform(X_train)\n",
        "X_test_normalized = scaler.transform(X_test)\n",
        "\n",
        "# Train the logistic regression model\n",
        "model = LogisticRegression()\n",
        "model.fit(X_train_normalized, y_train)\n",
        "\n",
        "# Print the results\n",
        "print(\"Results before normalization:\")\n",
        "print(\"Training set:\")\n",
        "print(classification_report(y_train, model.predict(X_train_normalized)))\n",
        "print(\"Testing set:\")\n",
        "print(classification_report(y_test, model.predict(X_test_normalized)))\n",
        "\n",
        "# Train the model again on normalized data\n",
        "model_normalized = LogisticRegression()\n",
        "model_normalized.fit(X_train_normalized, y_train)\n",
        "\n",
        "# Print the results after normalization\n",
        "print(\"Results after normalization:\")\n",
        "print(\"Training set:\")\n",
        "print(classification_report(y_train, model_normalized.predict(X_train_normalized)))\n",
        "print(\"Testing set:\")\n",
        "print(classification_report(y_test, model_normalized.predict(X_test_normalized)))\n"
      ],
      "metadata": {
        "colab": {
          "base_uri": "https://localhost:8080/"
        },
        "id": "GukSkSRaRxKA",
        "outputId": "b898215e-7454-40da-c6ad-4411e593e366"
      },
      "execution_count": 24,
      "outputs": [
        {
          "output_type": "stream",
          "name": "stdout",
          "text": [
            "Results before normalization:\n",
            "Training set:\n",
            "              precision    recall  f1-score   support\n",
            "\n",
            "         0.0       0.81      0.99      0.89      3211\n",
            "         1.0       0.98      0.71      0.82      2602\n",
            "\n",
            "    accuracy                           0.86      5813\n",
            "   macro avg       0.89      0.85      0.86      5813\n",
            "weighted avg       0.89      0.86      0.86      5813\n",
            "\n",
            "Testing set:\n",
            "              precision    recall  f1-score   support\n",
            "\n",
            "         0.0       0.80      0.99      0.89       789\n",
            "         1.0       0.99      0.71      0.82       665\n",
            "\n",
            "    accuracy                           0.86      1454\n",
            "   macro avg       0.89      0.85      0.85      1454\n",
            "weighted avg       0.89      0.86      0.86      1454\n",
            "\n",
            "Results after normalization:\n",
            "Training set:\n",
            "              precision    recall  f1-score   support\n",
            "\n",
            "         0.0       0.81      0.99      0.89      3211\n",
            "         1.0       0.98      0.71      0.82      2602\n",
            "\n",
            "    accuracy                           0.86      5813\n",
            "   macro avg       0.89      0.85      0.86      5813\n",
            "weighted avg       0.89      0.86      0.86      5813\n",
            "\n",
            "Testing set:\n",
            "              precision    recall  f1-score   support\n",
            "\n",
            "         0.0       0.80      0.99      0.89       789\n",
            "         1.0       0.99      0.71      0.82       665\n",
            "\n",
            "    accuracy                           0.86      1454\n",
            "   macro avg       0.89      0.85      0.85      1454\n",
            "weighted avg       0.89      0.86      0.86      1454\n",
            "\n"
          ]
        }
      ]
    },
    {
      "cell_type": "markdown",
      "source": [
        "#Using KNN classifier without normalization and with normalization"
      ],
      "metadata": {
        "id": "LDFu32MFTUiq"
      }
    },
    {
      "cell_type": "code",
      "source": [
        "from sklearn.model_selection import train_test_split\n",
        "from sklearn.neighbors import KNeighborsClassifier\n",
        "from sklearn.metrics import classification_report, confusion_matrix\n",
        "\n",
        "# Assuming df is your DataFrame containing the dataset\n",
        "X = df_clean[['amount', 'oldbalanceOrg', 'newbalanceOrig', 'oldbalanceDest', 'newbalanceDest', 'isFlaggedFraud']]\n",
        "y = df_clean['isFraud']\n",
        "\n",
        "# Split the dataset into training and testing sets\n",
        "X_train, X_test, y_train, y_test = train_test_split(X, y, test_size=0.2, random_state=42)\n",
        "\n",
        "# Train the KNN classifier\n",
        "knn = KNeighborsClassifier()\n",
        "knn.fit(X_train, y_train)\n",
        "\n",
        "# Make predictions and print the results\n",
        "print(\"Results without normalization:\")\n",
        "print(\"Training set:\")\n",
        "print(classification_report(y_train, knn.predict(X_train)))\n",
        "print(\"Testing set:\")\n",
        "print(classification_report(y_test, knn.predict(X_test)))\n",
        "\n",
        "# Print the confusion matrix\n",
        "print(\"Confusion matrix for testing set:\")\n",
        "print(confusion_matrix(y_test, knn.predict(X_test)))\n"
      ],
      "metadata": {
        "colab": {
          "base_uri": "https://localhost:8080/"
        },
        "id": "4YKZ03y3SV5n",
        "outputId": "8a90dd98-9734-4ef9-ebf7-45fb24f4d701"
      },
      "execution_count": 25,
      "outputs": [
        {
          "output_type": "stream",
          "name": "stdout",
          "text": [
            "Results without normalization:\n",
            "Training set:\n",
            "              precision    recall  f1-score   support\n",
            "\n",
            "         0.0       0.98      0.97      0.97      3211\n",
            "         1.0       0.96      0.98      0.97      2602\n",
            "\n",
            "    accuracy                           0.97      5813\n",
            "   macro avg       0.97      0.97      0.97      5813\n",
            "weighted avg       0.97      0.97      0.97      5813\n",
            "\n",
            "Testing set:\n",
            "              precision    recall  f1-score   support\n",
            "\n",
            "         0.0       0.96      0.95      0.96       789\n",
            "         1.0       0.95      0.96      0.95       665\n",
            "\n",
            "    accuracy                           0.96      1454\n",
            "   macro avg       0.95      0.96      0.96      1454\n",
            "weighted avg       0.96      0.96      0.96      1454\n",
            "\n",
            "Confusion matrix for testing set:\n",
            "[[753  36]\n",
            " [ 29 636]]\n"
          ]
        }
      ]
    },
    {
      "cell_type": "code",
      "source": [
        "from sklearn.preprocessing import StandardScaler\n",
        "\n",
        "# Normalize the dataset\n",
        "scaler = StandardScaler()\n",
        "X_train_normalized = scaler.fit_transform(X_train)\n",
        "X_test_normalized = scaler.transform(X_test)\n",
        "\n",
        "# Train the KNN classifier on normalized data\n",
        "knn_normalized = KNeighborsClassifier()\n",
        "knn_normalized.fit(X_train_normalized, y_train)\n",
        "\n",
        "# Make predictions and print the results\n",
        "print(\"Results with normalization:\")\n",
        "print(\"Training set:\")\n",
        "print(classification_report(y_train, knn_normalized.predict(X_train_normalized)))\n",
        "print(\"Testing set:\")\n",
        "print(classification_report(y_test, knn_normalized.predict(X_test_normalized)))\n",
        "\n",
        "# Print the confusion matrix\n",
        "print(\"Confusion matrix for testing set with normalization:\")\n",
        "print(confusion_matrix(y_test, knn_normalized.predict(X_test_normalized)))\n"
      ],
      "metadata": {
        "colab": {
          "base_uri": "https://localhost:8080/"
        },
        "id": "BeReY1IgT-Br",
        "outputId": "2170c9be-1014-4063-8d29-d4c33be4e3a8"
      },
      "execution_count": 26,
      "outputs": [
        {
          "output_type": "stream",
          "name": "stdout",
          "text": [
            "Results with normalization:\n",
            "Training set:\n",
            "              precision    recall  f1-score   support\n",
            "\n",
            "         0.0       0.98      0.97      0.97      3211\n",
            "         1.0       0.96      0.98      0.97      2602\n",
            "\n",
            "    accuracy                           0.97      5813\n",
            "   macro avg       0.97      0.97      0.97      5813\n",
            "weighted avg       0.97      0.97      0.97      5813\n",
            "\n",
            "Testing set:\n",
            "              precision    recall  f1-score   support\n",
            "\n",
            "         0.0       0.97      0.96      0.96       789\n",
            "         1.0       0.95      0.96      0.95       665\n",
            "\n",
            "    accuracy                           0.96      1454\n",
            "   macro avg       0.96      0.96      0.96      1454\n",
            "weighted avg       0.96      0.96      0.96      1454\n",
            "\n",
            "Confusion matrix for testing set with normalization:\n",
            "[[754  35]\n",
            " [ 27 638]]\n"
          ]
        }
      ]
    },
    {
      "cell_type": "markdown",
      "source": [
        "#Using Decison Tree classifier without normalization and with normalization"
      ],
      "metadata": {
        "id": "TMA213oQVlz5"
      }
    },
    {
      "cell_type": "code",
      "source": [
        "from sklearn.tree import DecisionTreeClassifier\n",
        "\n",
        "\n",
        "# Train the Decision Tree classifier\n",
        "dt = DecisionTreeClassifier()\n",
        "dt.fit(X_train, y_train)\n",
        "\n",
        "# Make predictions and print the results\n",
        "print(\"Results without normalization:\")\n",
        "print(\"Training set:\")\n",
        "print(classification_report(y_train, dt.predict(X_train)))\n",
        "print(\"Testing set:\")\n",
        "print(classification_report(y_test, dt.predict(X_test)))\n",
        "\n",
        "# Print the confusion matrix\n",
        "print(\"Confusion matrix for testing set:\")\n",
        "print(confusion_matrix(y_test, dt.predict(X_test)))\n"
      ],
      "metadata": {
        "colab": {
          "base_uri": "https://localhost:8080/"
        },
        "id": "ls17QDgmVrtw",
        "outputId": "9a645e49-0a19-4dff-9468-4e2f637091a8"
      },
      "execution_count": 27,
      "outputs": [
        {
          "output_type": "stream",
          "name": "stdout",
          "text": [
            "Results without normalization:\n",
            "Training set:\n",
            "              precision    recall  f1-score   support\n",
            "\n",
            "         0.0       1.00      1.00      1.00      3211\n",
            "         1.0       1.00      1.00      1.00      2602\n",
            "\n",
            "    accuracy                           1.00      5813\n",
            "   macro avg       1.00      1.00      1.00      5813\n",
            "weighted avg       1.00      1.00      1.00      5813\n",
            "\n",
            "Testing set:\n",
            "              precision    recall  f1-score   support\n",
            "\n",
            "         0.0       0.99      0.99      0.99       789\n",
            "         1.0       0.99      0.98      0.99       665\n",
            "\n",
            "    accuracy                           0.99      1454\n",
            "   macro avg       0.99      0.99      0.99      1454\n",
            "weighted avg       0.99      0.99      0.99      1454\n",
            "\n",
            "Confusion matrix for testing set:\n",
            "[[782   7]\n",
            " [ 11 654]]\n"
          ]
        }
      ]
    },
    {
      "cell_type": "code",
      "source": [
        "\n",
        "# Train the Decision Tree classifier on normalized data\n",
        "dt_normalized = DecisionTreeClassifier()\n",
        "dt_normalized.fit(X_train_normalized, y_train)\n",
        "\n",
        "# Make predictions and print the results\n",
        "print(\"Results with normalization:\")\n",
        "print(\"Training set:\")\n",
        "print(classification_report(y_train, dt_normalized.predict(X_train_normalized)))\n",
        "print(\"Testing set:\")\n",
        "print(classification_report(y_test, dt_normalized.predict(X_test_normalized)))\n",
        "\n",
        "# Print the confusion matrix\n",
        "print(\"Confusion matrix for testing set with normalization:\")\n",
        "print(confusion_matrix(y_test, dt_normalized.predict(X_test_normalized)))\n"
      ],
      "metadata": {
        "colab": {
          "base_uri": "https://localhost:8080/"
        },
        "id": "o6mzlfD2V8i-",
        "outputId": "ce9fcd02-7c3a-485a-db3e-b7aa125ea5c9"
      },
      "execution_count": 28,
      "outputs": [
        {
          "output_type": "stream",
          "name": "stdout",
          "text": [
            "Results with normalization:\n",
            "Training set:\n",
            "              precision    recall  f1-score   support\n",
            "\n",
            "         0.0       1.00      1.00      1.00      3211\n",
            "         1.0       1.00      1.00      1.00      2602\n",
            "\n",
            "    accuracy                           1.00      5813\n",
            "   macro avg       1.00      1.00      1.00      5813\n",
            "weighted avg       1.00      1.00      1.00      5813\n",
            "\n",
            "Testing set:\n",
            "              precision    recall  f1-score   support\n",
            "\n",
            "         0.0       0.99      0.99      0.99       789\n",
            "         1.0       0.99      0.98      0.99       665\n",
            "\n",
            "    accuracy                           0.99      1454\n",
            "   macro avg       0.99      0.99      0.99      1454\n",
            "weighted avg       0.99      0.99      0.99      1454\n",
            "\n",
            "Confusion matrix for testing set with normalization:\n",
            "[[782   7]\n",
            " [ 11 654]]\n"
          ]
        }
      ]
    },
    {
      "cell_type": "markdown",
      "source": [
        "#Using PCA on our dataset with 2 components\n"
      ],
      "metadata": {
        "id": "NfNPTG4KWTms"
      }
    },
    {
      "cell_type": "code",
      "source": [
        "from sklearn.decomposition import PCA\n",
        "from sklearn.preprocessing import StandardScaler\n",
        "\n",
        "# Assuming df is your DataFrame containing the dataset\n",
        "X = df_clean[['amount', 'oldbalanceOrg', 'newbalanceOrig', 'oldbalanceDest', 'newbalanceDest', 'isFlaggedFraud']]\n",
        "y = df_clean['isFraud']\n",
        "\n",
        "# Normalize the dataset\n",
        "scaler = StandardScaler()\n",
        "X_normalized = scaler.fit_transform(X)\n",
        "\n",
        "# Perform PCA\n",
        "pca = PCA(n_components=2)  # Choose the number of components\n",
        "X_pca = pca.fit_transform(X_normalized)\n",
        "\n",
        "# Split the dataset into training and testing sets\n",
        "X_train, X_test, y_train, y_test = train_test_split(X_pca, y, test_size=0.2, random_state=42)\n"
      ],
      "metadata": {
        "id": "K9IfrcrYWRTs"
      },
      "execution_count": 30,
      "outputs": []
    },
    {
      "cell_type": "code",
      "source": [
        "#Logistic Regression\n",
        "import warnings\n",
        "warnings.filterwarnings(\"ignore\")\n",
        "\n",
        "from sklearn.linear_model import LogisticRegression\n",
        "from sklearn.metrics import classification_report, confusion_matrix\n",
        "\n",
        "# Train the logistic regression model\n",
        "model_lr = LogisticRegression()\n",
        "model_lr.fit(X_train, y_train)\n",
        "\n",
        "# Make predictions and print the results\n",
        "print(\"Logistic Regression Results:\")\n",
        "print(\"Training set:\")\n",
        "print(classification_report(y_train, model_lr.predict(X_train)))\n",
        "print(\"Testing set:\")\n",
        "print(classification_report(y_test, model_lr.predict(X_test)))\n",
        "\n",
        "# Print the confusion matrix\n",
        "print(\"Confusion matrix for testing set:\")\n",
        "print(confusion_matrix(y_test, model_lr.predict(X_test)))\n"
      ],
      "metadata": {
        "colab": {
          "base_uri": "https://localhost:8080/"
        },
        "id": "x6J0HrrwXGDY",
        "outputId": "4011ef60-aa79-4af3-ac2b-3134b8a48239"
      },
      "execution_count": 31,
      "outputs": [
        {
          "output_type": "stream",
          "name": "stdout",
          "text": [
            "Logistic Regression Results:\n",
            "Training set:\n",
            "              precision    recall  f1-score   support\n",
            "\n",
            "         0.0       0.55      0.89      0.68      3211\n",
            "         1.0       0.44      0.10      0.17      2602\n",
            "\n",
            "    accuracy                           0.54      5813\n",
            "   macro avg       0.50      0.50      0.42      5813\n",
            "weighted avg       0.50      0.54      0.45      5813\n",
            "\n",
            "Testing set:\n",
            "              precision    recall  f1-score   support\n",
            "\n",
            "         0.0       0.54      0.89      0.67       789\n",
            "         1.0       0.44      0.10      0.17       665\n",
            "\n",
            "    accuracy                           0.53      1454\n",
            "   macro avg       0.49      0.50      0.42      1454\n",
            "weighted avg       0.49      0.53      0.44      1454\n",
            "\n",
            "Confusion matrix for testing set:\n",
            "[[701  88]\n",
            " [597  68]]\n"
          ]
        }
      ]
    },
    {
      "cell_type": "code",
      "source": [
        "#KNN\n",
        "from sklearn.neighbors import KNeighborsClassifier\n",
        "\n",
        "# Train the KNN classifier\n",
        "model_knn = KNeighborsClassifier()\n",
        "model_knn.fit(X_train, y_train)\n",
        "\n",
        "# Make predictions and print the results\n",
        "print(\"KNN Results:\")\n",
        "print(\"Training set:\")\n",
        "print(classification_report(y_train, model_knn.predict(X_train)))\n",
        "print(\"Testing set:\")\n",
        "print(classification_report(y_test, model_knn.predict(X_test)))\n",
        "\n",
        "# Print the confusion matrix\n",
        "print(\"Confusion matrix for testing set:\")\n",
        "print(confusion_matrix(y_test, model_knn.predict(X_test)))\n"
      ],
      "metadata": {
        "colab": {
          "base_uri": "https://localhost:8080/"
        },
        "id": "xAsfXZ6HXTCZ",
        "outputId": "a26f3558-0ae4-412b-9a0d-4dd096fc2c7c"
      },
      "execution_count": 32,
      "outputs": [
        {
          "output_type": "stream",
          "name": "stdout",
          "text": [
            "KNN Results:\n",
            "Training set:\n",
            "              precision    recall  f1-score   support\n",
            "\n",
            "         0.0       0.89      0.87      0.88      3211\n",
            "         1.0       0.84      0.86      0.85      2602\n",
            "\n",
            "    accuracy                           0.87      5813\n",
            "   macro avg       0.86      0.87      0.87      5813\n",
            "weighted avg       0.87      0.87      0.87      5813\n",
            "\n",
            "Testing set:\n",
            "              precision    recall  f1-score   support\n",
            "\n",
            "         0.0       0.82      0.81      0.81       789\n",
            "         1.0       0.78      0.79      0.78       665\n",
            "\n",
            "    accuracy                           0.80      1454\n",
            "   macro avg       0.80      0.80      0.80      1454\n",
            "weighted avg       0.80      0.80      0.80      1454\n",
            "\n",
            "Confusion matrix for testing set:\n",
            "[[637 152]\n",
            " [138 527]]\n"
          ]
        }
      ]
    },
    {
      "cell_type": "code",
      "source": [
        "#Decision Tree\n",
        "from sklearn.tree import DecisionTreeClassifier\n",
        "\n",
        "# Train the Decision Tree classifier\n",
        "model_dt = DecisionTreeClassifier()\n",
        "model_dt.fit(X_train, y_train)\n",
        "\n",
        "# Make predictions and print the results\n",
        "print(\"Decision Tree Results:\")\n",
        "print(\"Training set:\")\n",
        "print(classification_report(y_train, model_dt.predict(X_train)))\n",
        "print(\"Testing set:\")\n",
        "print(classification_report(y_test, model_dt.predict(X_test)))\n",
        "\n",
        "# Print the confusion matrix\n",
        "print(\"Confusion matrix for testing set:\")\n",
        "print(confusion_matrix(y_test, model_dt.predict(X_test)))\n"
      ],
      "metadata": {
        "colab": {
          "base_uri": "https://localhost:8080/"
        },
        "id": "ohudLvvMXwo2",
        "outputId": "da0ebb1e-4aa9-46bb-9fb2-414ed10e5596"
      },
      "execution_count": 33,
      "outputs": [
        {
          "output_type": "stream",
          "name": "stdout",
          "text": [
            "Decision Tree Results:\n",
            "Training set:\n",
            "              precision    recall  f1-score   support\n",
            "\n",
            "         0.0       1.00      1.00      1.00      3211\n",
            "         1.0       1.00      1.00      1.00      2602\n",
            "\n",
            "    accuracy                           1.00      5813\n",
            "   macro avg       1.00      1.00      1.00      5813\n",
            "weighted avg       1.00      1.00      1.00      5813\n",
            "\n",
            "Testing set:\n",
            "              precision    recall  f1-score   support\n",
            "\n",
            "         0.0       0.78      0.78      0.78       789\n",
            "         1.0       0.74      0.74      0.74       665\n",
            "\n",
            "    accuracy                           0.76      1454\n",
            "   macro avg       0.76      0.76      0.76      1454\n",
            "weighted avg       0.76      0.76      0.76      1454\n",
            "\n",
            "Confusion matrix for testing set:\n",
            "[[619 170]\n",
            " [172 493]]\n"
          ]
        }
      ]
    },
    {
      "cell_type": "markdown",
      "source": [
        "#USing PCA and 3 components\n"
      ],
      "metadata": {
        "id": "QewYCqBZbhri"
      }
    },
    {
      "cell_type": "code",
      "source": [
        "from sklearn.decomposition import PCA\n",
        "from sklearn.preprocessing import StandardScaler\n",
        "\n",
        "# Assuming df is your DataFrame containing the dataset\n",
        "X = df_clean[['amount', 'oldbalanceOrg', 'newbalanceOrig', 'oldbalanceDest', 'newbalanceDest', 'isFlaggedFraud']]\n",
        "y = df_clean['isFraud']\n",
        "\n",
        "# Normalize the dataset\n",
        "scaler = StandardScaler()\n",
        "X_normalized = scaler.fit_transform(X)\n",
        "\n",
        "# Perform PCA\n",
        "pca = PCA(n_components=3)  # Choose the number of components\n",
        "X_pca = pca.fit_transform(X_normalized)\n",
        "\n",
        "# Split the dataset into training and testing sets\n",
        "X_train, X_test, y_train, y_test = train_test_split(X_pca, y, test_size=0.2, random_state=42)"
      ],
      "metadata": {
        "id": "Ihm84u0dbmui"
      },
      "execution_count": 35,
      "outputs": []
    },
    {
      "cell_type": "code",
      "source": [
        "#Logistic Regression\n",
        "import warnings\n",
        "warnings.filterwarnings(\"ignore\")\n",
        "\n",
        "from sklearn.linear_model import LogisticRegression\n",
        "from sklearn.metrics import classification_report, confusion_matrix\n",
        "\n",
        "# Train the logistic regression model\n",
        "model_lr = LogisticRegression()\n",
        "model_lr.fit(X_train, y_train)\n",
        "\n",
        "# Make predictions and print the results\n",
        "print(\"Logistic Regression Results:\")\n",
        "print(\"Training set:\")\n",
        "print(classification_report(y_train, model_lr.predict(X_train)))\n",
        "print(\"Testing set:\")\n",
        "print(classification_report(y_test, model_lr.predict(X_test)))\n",
        "\n",
        "# Print the confusion matrix\n",
        "print(\"Confusion matrix for testing set:\")\n",
        "print(confusion_matrix(y_test, model_lr.predict(X_test)))\n"
      ],
      "metadata": {
        "colab": {
          "base_uri": "https://localhost:8080/"
        },
        "id": "mGtpM5teb1tE",
        "outputId": "23ab9545-29c4-4628-8e98-481823b27c8b"
      },
      "execution_count": 36,
      "outputs": [
        {
          "output_type": "stream",
          "name": "stdout",
          "text": [
            "Logistic Regression Results:\n",
            "Training set:\n",
            "              precision    recall  f1-score   support\n",
            "\n",
            "         0.0       0.75      0.94      0.84      3211\n",
            "         1.0       0.89      0.62      0.73      2602\n",
            "\n",
            "    accuracy                           0.80      5813\n",
            "   macro avg       0.82      0.78      0.79      5813\n",
            "weighted avg       0.82      0.80      0.79      5813\n",
            "\n",
            "Testing set:\n",
            "              precision    recall  f1-score   support\n",
            "\n",
            "         0.0       0.75      0.95      0.84       789\n",
            "         1.0       0.92      0.62      0.74       665\n",
            "\n",
            "    accuracy                           0.80      1454\n",
            "   macro avg       0.83      0.79      0.79      1454\n",
            "weighted avg       0.83      0.80      0.80      1454\n",
            "\n",
            "Confusion matrix for testing set:\n",
            "[[752  37]\n",
            " [250 415]]\n"
          ]
        }
      ]
    },
    {
      "cell_type": "code",
      "source": [
        "#KNN\n",
        "from sklearn.neighbors import KNeighborsClassifier\n",
        "\n",
        "# Train the KNN classifier\n",
        "model_knn = KNeighborsClassifier()\n",
        "model_knn.fit(X_train, y_train)\n",
        "\n",
        "# Make predictions and print the results\n",
        "print(\"KNN Results:\")\n",
        "print(\"Training set:\")\n",
        "print(classification_report(y_train, model_knn.predict(X_train)))\n",
        "print(\"Testing set:\")\n",
        "print(classification_report(y_test, model_knn.predict(X_test)))\n",
        "\n",
        "# Print the confusion matrix\n",
        "print(\"Confusion matrix for testing set:\")\n",
        "print(confusion_matrix(y_test, model_knn.predict(X_test)))\n"
      ],
      "metadata": {
        "colab": {
          "base_uri": "https://localhost:8080/"
        },
        "id": "Ya2JPcVjb2Tv",
        "outputId": "7e87b174-2165-4508-d30f-1afd698d0752"
      },
      "execution_count": 37,
      "outputs": [
        {
          "output_type": "stream",
          "name": "stdout",
          "text": [
            "KNN Results:\n",
            "Training set:\n",
            "              precision    recall  f1-score   support\n",
            "\n",
            "         0.0       0.97      0.96      0.97      3211\n",
            "         1.0       0.96      0.96      0.96      2602\n",
            "\n",
            "    accuracy                           0.96      5813\n",
            "   macro avg       0.96      0.96      0.96      5813\n",
            "weighted avg       0.96      0.96      0.96      5813\n",
            "\n",
            "Testing set:\n",
            "              precision    recall  f1-score   support\n",
            "\n",
            "         0.0       0.94      0.93      0.94       789\n",
            "         1.0       0.92      0.93      0.92       665\n",
            "\n",
            "    accuracy                           0.93      1454\n",
            "   macro avg       0.93      0.93      0.93      1454\n",
            "weighted avg       0.93      0.93      0.93      1454\n",
            "\n",
            "Confusion matrix for testing set:\n",
            "[[735  54]\n",
            " [ 47 618]]\n"
          ]
        }
      ]
    },
    {
      "cell_type": "code",
      "source": [
        "#Decision Tree\n",
        "from sklearn.tree import DecisionTreeClassifier\n",
        "\n",
        "# Train the Decision Tree classifier\n",
        "model_dt = DecisionTreeClassifier()\n",
        "model_dt.fit(X_train, y_train)\n",
        "\n",
        "# Make predictions and print the results\n",
        "print(\"Decision Tree Results:\")\n",
        "print(\"Training set:\")\n",
        "print(classification_report(y_train, model_dt.predict(X_train)))\n",
        "print(\"Testing set:\")\n",
        "print(classification_report(y_test, model_dt.predict(X_test)))\n",
        "\n",
        "# Print the confusion matrix\n",
        "print(\"Confusion matrix for testing set:\")\n",
        "print(confusion_matrix(y_test, model_dt.predict(X_test)))\n"
      ],
      "metadata": {
        "colab": {
          "base_uri": "https://localhost:8080/"
        },
        "id": "p-vnKRsob2XR",
        "outputId": "145c5b42-9b19-4f1d-bce5-e73d0396893f"
      },
      "execution_count": 38,
      "outputs": [
        {
          "output_type": "stream",
          "name": "stdout",
          "text": [
            "Decision Tree Results:\n",
            "Training set:\n",
            "              precision    recall  f1-score   support\n",
            "\n",
            "         0.0       1.00      1.00      1.00      3211\n",
            "         1.0       1.00      1.00      1.00      2602\n",
            "\n",
            "    accuracy                           1.00      5813\n",
            "   macro avg       1.00      1.00      1.00      5813\n",
            "weighted avg       1.00      1.00      1.00      5813\n",
            "\n",
            "Testing set:\n",
            "              precision    recall  f1-score   support\n",
            "\n",
            "         0.0       0.92      0.93      0.92       789\n",
            "         1.0       0.92      0.90      0.91       665\n",
            "\n",
            "    accuracy                           0.92      1454\n",
            "   macro avg       0.92      0.92      0.92      1454\n",
            "weighted avg       0.92      0.92      0.92      1454\n",
            "\n",
            "Confusion matrix for testing set:\n",
            "[[736  53]\n",
            " [ 68 597]]\n"
          ]
        }
      ]
    },
    {
      "cell_type": "markdown",
      "source": [
        "#Using PCA and 4 components"
      ],
      "metadata": {
        "id": "Eah4TXUgcEav"
      }
    },
    {
      "cell_type": "code",
      "source": [
        "from sklearn.decomposition import PCA\n",
        "from sklearn.preprocessing import StandardScaler\n",
        "\n",
        "# Assuming df is your DataFrame containing the dataset\n",
        "X = df_clean[['amount', 'oldbalanceOrg', 'newbalanceOrig', 'oldbalanceDest', 'newbalanceDest', 'isFlaggedFraud']]\n",
        "y = df_clean['isFraud']\n",
        "\n",
        "# Normalize the dataset\n",
        "scaler = StandardScaler()\n",
        "X_normalized = scaler.fit_transform(X)\n",
        "\n",
        "# Perform PCA\n",
        "pca = PCA(n_components=4)  # Choose the number of components\n",
        "X_pca = pca.fit_transform(X_normalized)\n",
        "\n",
        "# Split the dataset into training and testing sets\n",
        "X_train, X_test, y_train, y_test = train_test_split(X_pca, y, test_size=0.2, random_state=42)"
      ],
      "metadata": {
        "id": "HroAF9opcNSz"
      },
      "execution_count": 40,
      "outputs": []
    },
    {
      "cell_type": "code",
      "source": [
        "#Logistic Regression\n",
        "import warnings\n",
        "warnings.filterwarnings(\"ignore\")\n",
        "\n",
        "from sklearn.linear_model import LogisticRegression\n",
        "from sklearn.metrics import classification_report, confusion_matrix\n",
        "\n",
        "# Train the logistic regression model\n",
        "model_lr = LogisticRegression()\n",
        "model_lr.fit(X_train, y_train)\n",
        "\n",
        "# Make predictions and print the results\n",
        "print(\"Logistic Regression Results:\")\n",
        "print(\"Training set:\")\n",
        "print(classification_report(y_train, model_lr.predict(X_train)))\n",
        "print(\"Testing set:\")\n",
        "print(classification_report(y_test, model_lr.predict(X_test)))\n",
        "\n",
        "# Print the confusion matrix\n",
        "print(\"Confusion matrix for testing set:\")\n",
        "print(confusion_matrix(y_test, model_lr.predict(X_test)))\n"
      ],
      "metadata": {
        "colab": {
          "base_uri": "https://localhost:8080/"
        },
        "id": "5KkZYgnlcdh3",
        "outputId": "ea77b534-fd87-4744-94d8-55a01cad9160"
      },
      "execution_count": 41,
      "outputs": [
        {
          "output_type": "stream",
          "name": "stdout",
          "text": [
            "Logistic Regression Results:\n",
            "Training set:\n",
            "              precision    recall  f1-score   support\n",
            "\n",
            "         0.0       0.75      0.94      0.84      3211\n",
            "         1.0       0.89      0.62      0.73      2602\n",
            "\n",
            "    accuracy                           0.80      5813\n",
            "   macro avg       0.82      0.78      0.79      5813\n",
            "weighted avg       0.82      0.80      0.79      5813\n",
            "\n",
            "Testing set:\n",
            "              precision    recall  f1-score   support\n",
            "\n",
            "         0.0       0.75      0.95      0.84       789\n",
            "         1.0       0.92      0.62      0.74       665\n",
            "\n",
            "    accuracy                           0.80      1454\n",
            "   macro avg       0.83      0.79      0.79      1454\n",
            "weighted avg       0.83      0.80      0.80      1454\n",
            "\n",
            "Confusion matrix for testing set:\n",
            "[[752  37]\n",
            " [250 415]]\n"
          ]
        }
      ]
    },
    {
      "cell_type": "code",
      "source": [
        "#KNN\n",
        "from sklearn.neighbors import KNeighborsClassifier\n",
        "\n",
        "# Train the KNN classifier\n",
        "model_knn = KNeighborsClassifier()\n",
        "model_knn.fit(X_train, y_train)\n",
        "\n",
        "# Make predictions and print the results\n",
        "print(\"KNN Results:\")\n",
        "print(\"Training set:\")\n",
        "print(classification_report(y_train, model_knn.predict(X_train)))\n",
        "print(\"Testing set:\")\n",
        "print(classification_report(y_test, model_knn.predict(X_test)))\n",
        "\n",
        "# Print the confusion matrix\n",
        "print(\"Confusion matrix for testing set:\")\n",
        "print(confusion_matrix(y_test, model_knn.predict(X_test)))\n"
      ],
      "metadata": {
        "colab": {
          "base_uri": "https://localhost:8080/"
        },
        "id": "_DLHhVQUckBY",
        "outputId": "227fad93-f79b-4385-afca-5ee1dec9c4c7"
      },
      "execution_count": 42,
      "outputs": [
        {
          "output_type": "stream",
          "name": "stdout",
          "text": [
            "KNN Results:\n",
            "Training set:\n",
            "              precision    recall  f1-score   support\n",
            "\n",
            "         0.0       0.97      0.96      0.97      3211\n",
            "         1.0       0.96      0.96      0.96      2602\n",
            "\n",
            "    accuracy                           0.96      5813\n",
            "   macro avg       0.96      0.96      0.96      5813\n",
            "weighted avg       0.96      0.96      0.96      5813\n",
            "\n",
            "Testing set:\n",
            "              precision    recall  f1-score   support\n",
            "\n",
            "         0.0       0.94      0.93      0.94       789\n",
            "         1.0       0.92      0.93      0.92       665\n",
            "\n",
            "    accuracy                           0.93      1454\n",
            "   macro avg       0.93      0.93      0.93      1454\n",
            "weighted avg       0.93      0.93      0.93      1454\n",
            "\n",
            "Confusion matrix for testing set:\n",
            "[[735  54]\n",
            " [ 47 618]]\n"
          ]
        }
      ]
    },
    {
      "cell_type": "code",
      "source": [
        "#Decision Tree\n",
        "from sklearn.tree import DecisionTreeClassifier\n",
        "\n",
        "# Train the Decision Tree classifier\n",
        "model_dt = DecisionTreeClassifier()\n",
        "model_dt.fit(X_train, y_train)\n",
        "\n",
        "# Make predictions and print the results\n",
        "print(\"Decision Tree Results:\")\n",
        "print(\"Training set:\")\n",
        "print(classification_report(y_train, model_dt.predict(X_train)))\n",
        "print(\"Testing set:\")\n",
        "print(classification_report(y_test, model_dt.predict(X_test)))\n",
        "\n",
        "# Print the confusion matrix\n",
        "print(\"Confusion matrix for testing set:\")\n",
        "print(confusion_matrix(y_test, model_dt.predict(X_test)))\n"
      ],
      "metadata": {
        "colab": {
          "base_uri": "https://localhost:8080/"
        },
        "id": "MRLbKvdPco0h",
        "outputId": "71a2bfe7-7b96-4351-8191-4095353169fa"
      },
      "execution_count": 43,
      "outputs": [
        {
          "output_type": "stream",
          "name": "stdout",
          "text": [
            "Decision Tree Results:\n",
            "Training set:\n",
            "              precision    recall  f1-score   support\n",
            "\n",
            "         0.0       1.00      1.00      1.00      3211\n",
            "         1.0       1.00      1.00      1.00      2602\n",
            "\n",
            "    accuracy                           1.00      5813\n",
            "   macro avg       1.00      1.00      1.00      5813\n",
            "weighted avg       1.00      1.00      1.00      5813\n",
            "\n",
            "Testing set:\n",
            "              precision    recall  f1-score   support\n",
            "\n",
            "         0.0       0.91      0.91      0.91       789\n",
            "         1.0       0.89      0.90      0.90       665\n",
            "\n",
            "    accuracy                           0.90      1454\n",
            "   macro avg       0.90      0.90      0.90      1454\n",
            "weighted avg       0.90      0.90      0.90      1454\n",
            "\n",
            "Confusion matrix for testing set:\n",
            "[[717  72]\n",
            " [ 68 597]]\n"
          ]
        }
      ]
    },
    {
      "cell_type": "markdown",
      "source": [
        "#USing PCA and 5 components"
      ],
      "metadata": {
        "id": "q5NVj0lqcsRu"
      }
    },
    {
      "cell_type": "code",
      "source": [
        "from sklearn.decomposition import PCA\n",
        "from sklearn.preprocessing import StandardScaler\n",
        "\n",
        "# Assuming df is your DataFrame containing the dataset\n",
        "X = df_clean[['amount', 'oldbalanceOrg', 'newbalanceOrig', 'oldbalanceDest', 'newbalanceDest', 'isFlaggedFraud']]\n",
        "y = df_clean['isFraud']\n",
        "\n",
        "# Normalize the dataset\n",
        "scaler = StandardScaler()\n",
        "X_normalized = scaler.fit_transform(X)\n",
        "\n",
        "# Perform PCA\n",
        "pca = PCA(n_components=5)  # Choose the number of components\n",
        "X_pca = pca.fit_transform(X_normalized)\n",
        "\n",
        "# Split the dataset into training and testing sets\n",
        "X_train, X_test, y_train, y_test = train_test_split(X_pca, y, test_size=0.2, random_state=42)"
      ],
      "metadata": {
        "id": "4C0NmooOcwJl"
      },
      "execution_count": 44,
      "outputs": []
    },
    {
      "cell_type": "code",
      "source": [
        "#Logistic Regression\n",
        "import warnings\n",
        "warnings.filterwarnings(\"ignore\")\n",
        "\n",
        "from sklearn.linear_model import LogisticRegression\n",
        "from sklearn.metrics import classification_report, confusion_matrix\n",
        "\n",
        "# Train the logistic regression model\n",
        "model_lr = LogisticRegression()\n",
        "model_lr.fit(X_train, y_train)\n",
        "\n",
        "# Make predictions and print the results\n",
        "print(\"Logistic Regression Results:\")\n",
        "print(\"Training set:\")\n",
        "print(classification_report(y_train, model_lr.predict(X_train)))\n",
        "print(\"Testing set:\")\n",
        "print(classification_report(y_test, model_lr.predict(X_test)))\n",
        "\n",
        "# Print the confusion matrix\n",
        "print(\"Confusion matrix for testing set:\")\n",
        "print(confusion_matrix(y_test, model_lr.predict(X_test)))\n"
      ],
      "metadata": {
        "colab": {
          "base_uri": "https://localhost:8080/"
        },
        "id": "fC637RDMdLHD",
        "outputId": "ad0c0191-24e8-4480-a286-a76cc04346bb"
      },
      "execution_count": 45,
      "outputs": [
        {
          "output_type": "stream",
          "name": "stdout",
          "text": [
            "Logistic Regression Results:\n",
            "Training set:\n",
            "              precision    recall  f1-score   support\n",
            "\n",
            "         0.0       0.77      0.94      0.85      3211\n",
            "         1.0       0.90      0.66      0.76      2602\n",
            "\n",
            "    accuracy                           0.81      5813\n",
            "   macro avg       0.83      0.80      0.80      5813\n",
            "weighted avg       0.83      0.81      0.81      5813\n",
            "\n",
            "Testing set:\n",
            "              precision    recall  f1-score   support\n",
            "\n",
            "         0.0       0.76      0.95      0.85       789\n",
            "         1.0       0.91      0.65      0.76       665\n",
            "\n",
            "    accuracy                           0.81      1454\n",
            "   macro avg       0.84      0.80      0.80      1454\n",
            "weighted avg       0.83      0.81      0.81      1454\n",
            "\n",
            "Confusion matrix for testing set:\n",
            "[[748  41]\n",
            " [231 434]]\n"
          ]
        }
      ]
    },
    {
      "cell_type": "code",
      "source": [
        "#KNN\n",
        "from sklearn.neighbors import KNeighborsClassifier\n",
        "\n",
        "# Train the KNN classifier\n",
        "model_knn = KNeighborsClassifier()\n",
        "model_knn.fit(X_train, y_train)\n",
        "\n",
        "# Make predictions and print the results\n",
        "print(\"KNN Results:\")\n",
        "print(\"Training set:\")\n",
        "print(classification_report(y_train, model_knn.predict(X_train)))\n",
        "print(\"Testing set:\")\n",
        "print(classification_report(y_test, model_knn.predict(X_test)))\n",
        "\n",
        "# Print the confusion matrix\n",
        "print(\"Confusion matrix for testing set:\")\n",
        "print(confusion_matrix(y_test, model_knn.predict(X_test)))\n"
      ],
      "metadata": {
        "colab": {
          "base_uri": "https://localhost:8080/"
        },
        "id": "hLRPdv9wdLRA",
        "outputId": "bfffc1ac-54c5-4a1c-a62f-29fdf97f496f"
      },
      "execution_count": 46,
      "outputs": [
        {
          "output_type": "stream",
          "name": "stdout",
          "text": [
            "KNN Results:\n",
            "Training set:\n",
            "              precision    recall  f1-score   support\n",
            "\n",
            "         0.0       0.98      0.96      0.97      3211\n",
            "         1.0       0.95      0.97      0.96      2602\n",
            "\n",
            "    accuracy                           0.97      5813\n",
            "   macro avg       0.96      0.97      0.97      5813\n",
            "weighted avg       0.97      0.97      0.97      5813\n",
            "\n",
            "Testing set:\n",
            "              precision    recall  f1-score   support\n",
            "\n",
            "         0.0       0.95      0.94      0.95       789\n",
            "         1.0       0.93      0.95      0.94       665\n",
            "\n",
            "    accuracy                           0.94      1454\n",
            "   macro avg       0.94      0.94      0.94      1454\n",
            "weighted avg       0.94      0.94      0.94      1454\n",
            "\n",
            "Confusion matrix for testing set:\n",
            "[[741  48]\n",
            " [ 36 629]]\n"
          ]
        }
      ]
    },
    {
      "cell_type": "code",
      "source": [
        "#Decision Tree\n",
        "from sklearn.tree import DecisionTreeClassifier\n",
        "\n",
        "# Train the Decision Tree classifier\n",
        "model_dt = DecisionTreeClassifier()\n",
        "model_dt.fit(X_train, y_train)\n",
        "\n",
        "# Make predictions and print the results\n",
        "print(\"Decision Tree Results:\")\n",
        "print(\"Training set:\")\n",
        "print(classification_report(y_train, model_dt.predict(X_train)))\n",
        "print(\"Testing set:\")\n",
        "print(classification_report(y_test, model_dt.predict(X_test)))\n",
        "\n",
        "# Print the confusion matrix\n",
        "print(\"Confusion matrix for testing set:\")\n",
        "print(confusion_matrix(y_test, model_dt.predict(X_test)))\n"
      ],
      "metadata": {
        "colab": {
          "base_uri": "https://localhost:8080/"
        },
        "id": "NV2lll_ydLUn",
        "outputId": "c9e071fb-c27b-49f7-81eb-a258f88a53a5"
      },
      "execution_count": 47,
      "outputs": [
        {
          "output_type": "stream",
          "name": "stdout",
          "text": [
            "Decision Tree Results:\n",
            "Training set:\n",
            "              precision    recall  f1-score   support\n",
            "\n",
            "         0.0       1.00      1.00      1.00      3211\n",
            "         1.0       1.00      1.00      1.00      2602\n",
            "\n",
            "    accuracy                           1.00      5813\n",
            "   macro avg       1.00      1.00      1.00      5813\n",
            "weighted avg       1.00      1.00      1.00      5813\n",
            "\n",
            "Testing set:\n",
            "              precision    recall  f1-score   support\n",
            "\n",
            "         0.0       0.94      0.95      0.94       789\n",
            "         1.0       0.94      0.93      0.93       665\n",
            "\n",
            "    accuracy                           0.94      1454\n",
            "   macro avg       0.94      0.94      0.94      1454\n",
            "weighted avg       0.94      0.94      0.94      1454\n",
            "\n",
            "Confusion matrix for testing set:\n",
            "[[749  40]\n",
            " [ 49 616]]\n"
          ]
        }
      ]
    },
    {
      "cell_type": "markdown",
      "source": [
        "#voting Ensemble classifier"
      ],
      "metadata": {
        "id": "dgPLK8y6YTL2"
      }
    },
    {
      "cell_type": "code",
      "source": [
        "from sklearn.ensemble import VotingClassifier\n",
        "from sklearn.metrics import classification_report, confusion_matrix\n",
        "import matplotlib.pyplot as plt\n",
        "import seaborn as sns\n",
        "\n",
        "# Assuming X_train, X_test, y_train, y_test are already defined\n",
        "# Assuming df is your DataFrame containing the dataset\n",
        "X = df_clean[['amount', 'oldbalanceOrg', 'newbalanceOrig', 'oldbalanceDest', 'newbalanceDest', 'isFlaggedFraud']]\n",
        "y = df_clean['isFraud']\n",
        "\n",
        "# Normalize the dataset\n",
        "scaler = StandardScaler()\n",
        "X_normalized = scaler.fit_transform(X)\n",
        "\n",
        "# Split the dataset into training and testing sets\n",
        "X_train, X_test, y_train, y_test = train_test_split(X_normalized, y, test_size=0.2, random_state=42)\n",
        "# Create individual models\n",
        "model_lr = LogisticRegression()\n",
        "model_knn = KNeighborsClassifier()\n",
        "model_dt = DecisionTreeClassifier()\n",
        "\n",
        "# Create the voting classifier\n",
        "voting_clf = VotingClassifier(estimators=[('lr', model_lr), ('knn', model_knn), ('dt', model_dt)], voting='soft')\n",
        "\n",
        "# Train the voting classifier\n",
        "voting_clf.fit(X_train, y_train)\n",
        "\n",
        "# Make predictions and print the results\n",
        "y_pred = voting_clf.predict(X_test)\n",
        "print(\"Voting Ensemble Results:\")\n",
        "print(classification_report(y_test, y_pred))\n",
        "\n",
        "# Print the confusion matrix\n",
        "print(\"Confusion matrix for testing set:\")\n",
        "print(confusion_matrix(y_test, y_pred))\n",
        "\n",
        "# Plot the confusion matrix as a heatmap\n",
        "plt.figure(figsize=(8, 6))\n",
        "cm = confusion_matrix(y_test, y_pred)\n"
      ],
      "metadata": {
        "colab": {
          "base_uri": "https://localhost:8080/",
          "height": 260
        },
        "id": "JbSqjA5sYN6h",
        "outputId": "8fbbcfb8-8fc0-4498-945a-1bd98f7713df"
      },
      "execution_count": 48,
      "outputs": [
        {
          "output_type": "stream",
          "name": "stdout",
          "text": [
            "Voting Ensemble Results:\n",
            "              precision    recall  f1-score   support\n",
            "\n",
            "         0.0       0.97      0.99      0.98       789\n",
            "         1.0       0.99      0.96      0.98       665\n",
            "\n",
            "    accuracy                           0.98      1454\n",
            "   macro avg       0.98      0.98      0.98      1454\n",
            "weighted avg       0.98      0.98      0.98      1454\n",
            "\n",
            "Confusion matrix for testing set:\n",
            "[[783   6]\n",
            " [ 24 641]]\n"
          ]
        },
        {
          "output_type": "display_data",
          "data": {
            "text/plain": [
              "<Figure size 800x600 with 0 Axes>"
            ]
          },
          "metadata": {}
        }
      ]
    },
    {
      "cell_type": "code",
      "source": [
        "from sklearn.ensemble import RandomForestClassifier, VotingClassifier\n",
        "from sklearn.metrics import classification_report, confusion_matrix\n",
        "from sklearn.preprocessing import StandardScaler\n",
        "from sklearn.model_selection import train_test_split\n",
        "from sklearn.linear_model import LogisticRegression\n",
        "from sklearn.neighbors import KNeighborsClassifier\n",
        "from sklearn.tree import DecisionTreeClassifier\n",
        "from sklearn.svm import SVC\n",
        "import matplotlib.pyplot as plt\n",
        "import seaborn as sns\n",
        "import pandas as pd\n",
        "\n",
        "# Assuming X_train, X_test, y_train, y_test are already defined\n",
        "# Assuming df is your DataFrame containing the dataset\n",
        "X = df_clean[['amount', 'oldbalanceOrg', 'newbalanceOrig', 'oldbalanceDest', 'newbalanceDest', 'isFlaggedFraud']]\n",
        "y = df_clean['isFraud']\n",
        "\n",
        "# Normalize the dataset\n",
        "scaler = StandardScaler()\n",
        "X_normalized = scaler.fit_transform(X)\n",
        "\n",
        "# Split the dataset into training and testing sets\n",
        "X_train, X_test, y_train, y_test = train_test_split(X_normalized, y, test_size=0.2, random_state=42)\n",
        "\n",
        "# Create individual models\n",
        "model_lr = LogisticRegression()\n",
        "model_knn = KNeighborsClassifier()\n",
        "model_dt = DecisionTreeClassifier()\n",
        "model_svm = SVC(probability=True)  # Ensure probability=True for soft voting\n",
        "model_rf = RandomForestClassifier()\n",
        "\n",
        "# Create the voting classifier\n",
        "voting_clf = VotingClassifier(estimators=[('lr', model_lr), ('knn', model_knn), ('dt', model_dt), ('svm', model_svm), ('rf', model_rf)], voting='soft')\n",
        "\n",
        "# Train the voting classifier\n",
        "voting_clf.fit(X_train, y_train)\n",
        "\n",
        "# Make predictions and print the results\n",
        "y_pred = voting_clf.predict(X_test)\n",
        "print(\"Voting Ensemble Results:\")\n",
        "print(classification_report(y_test, y_pred))\n",
        "\n",
        "# Print the confusion matrix\n",
        "print(\"Confusion matrix for testing set:\")\n",
        "print(confusion_matrix(y_test, y_pred))\n",
        "\n",
        "\n"
      ],
      "metadata": {
        "id": "8wg-TnjqY5kL",
        "colab": {
          "base_uri": "https://localhost:8080/"
        },
        "outputId": "c986a887-b5b4-4f26-c6fa-b9821481ff63"
      },
      "execution_count": 50,
      "outputs": [
        {
          "output_type": "stream",
          "name": "stdout",
          "text": [
            "Voting Ensemble Results:\n",
            "              precision    recall  f1-score   support\n",
            "\n",
            "         0.0       0.97      0.99      0.98       789\n",
            "         1.0       0.99      0.96      0.98       665\n",
            "\n",
            "    accuracy                           0.98      1454\n",
            "   macro avg       0.98      0.98      0.98      1454\n",
            "weighted avg       0.98      0.98      0.98      1454\n",
            "\n",
            "Confusion matrix for testing set:\n",
            "[[785   4]\n",
            " [ 25 640]]\n"
          ]
        }
      ]
    },
    {
      "cell_type": "code",
      "source": [],
      "metadata": {
        "id": "rJ6KLVn7rxW1"
      },
      "execution_count": null,
      "outputs": []
    }
  ]
}